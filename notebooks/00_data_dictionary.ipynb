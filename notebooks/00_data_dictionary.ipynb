{
 "cells": [
  {
   "cell_type": "code",
   "execution_count": 1,
   "metadata": {},
   "outputs": [],
   "source": [
    "import pandas as pd"
   ]
  },
  {
   "cell_type": "code",
   "execution_count": 2,
   "metadata": {},
   "outputs": [
    {
     "name": "stdout",
     "output_type": "stream",
     "text": [
      "<class 'pandas.core.frame.DataFrame'>\n",
      "RangeIndex: 200 entries, 0 to 199\n",
      "Data columns (total 6 columns):\n",
      " #   Column       Non-Null Count  Dtype \n",
      "---  ------       --------------  ----- \n",
      " 0   user_id      200 non-null    object\n",
      " 1   country      200 non-null    object\n",
      " 2   signup_date  200 non-null    object\n",
      " 3   last_active  200 non-null    object\n",
      " 4   gender       200 non-null    object\n",
      " 5   age          200 non-null    int64 \n",
      "dtypes: int64(1), object(5)\n",
      "memory usage: 9.5+ KB\n"
     ]
    },
    {
     "data": {
      "text/plain": [
       "user_id        0\n",
       "country        0\n",
       "signup_date    0\n",
       "last_active    0\n",
       "gender         0\n",
       "age            0\n",
       "dtype: int64"
      ]
     },
     "execution_count": 2,
     "metadata": {},
     "output_type": "execute_result"
    }
   ],
   "source": [
    "users = pd.read_csv('../data/raw/peliplat_users.csv', encoding='latin1')\n",
    "users.head()\n",
    "users.info()\n",
    "users.isna().sum()"
   ]
  },
  {
   "cell_type": "code",
   "execution_count": 3,
   "metadata": {},
   "outputs": [
    {
     "name": "stdout",
     "output_type": "stream",
     "text": [
      "<class 'pandas.core.frame.DataFrame'>\n",
      "RangeIndex: 200 entries, 0 to 199\n",
      "Data columns (total 4 columns):\n",
      " #   Column            Non-Null Count  Dtype  \n",
      "---  ------            --------------  -----  \n",
      " 0   user_id           200 non-null    object \n",
      " 1   avg_daily_visits  200 non-null    float64\n",
      " 2   avg_time_on_page  200 non-null    float64\n",
      " 3   most_viewed_type  200 non-null    object \n",
      "dtypes: float64(2), object(2)\n",
      "memory usage: 6.4+ KB\n"
     ]
    },
    {
     "data": {
      "text/plain": [
       "user_id             0\n",
       "avg_daily_visits    0\n",
       "avg_time_on_page    0\n",
       "most_viewed_type    0\n",
       "dtype: int64"
      ]
     },
     "execution_count": 3,
     "metadata": {},
     "output_type": "execute_result"
    }
   ],
   "source": [
    "activity = pd.read_csv('../data/raw/peliplat_activity.csv', encoding='latin1')\n",
    "activity.head()\n",
    "activity.info()\n",
    "activity.isna().sum()"
   ]
  },
  {
   "cell_type": "code",
   "execution_count": null,
   "metadata": {},
   "outputs": [
    {
     "name": "stdout",
     "output_type": "stream",
     "text": [
      "<class 'pandas.core.frame.DataFrame'>\n",
      "RangeIndex: 5 entries, 0 to 4\n",
      "Data columns (total 7 columns):\n",
      " #   Column       Non-Null Count  Dtype  \n",
      "---  ------       --------------  -----  \n",
      " 0   campaign_id  5 non-null      object \n",
      " 1   name         5 non-null      object \n",
      " 2   start_date   5 non-null      object \n",
      " 3   end_date     5 non-null      object \n",
      " 4   clicks       5 non-null      int64  \n",
      " 5   signups      5 non-null      int64  \n",
      " 6   CTR          5 non-null      float64\n",
      "dtypes: float64(1), int64(2), object(4)\n",
      "memory usage: 412.0+ bytes\n"
     ]
    },
    {
     "data": {
      "text/plain": [
       "campaign_id    0\n",
       "name           0\n",
       "start_date     0\n",
       "end_date       0\n",
       "clicks         0\n",
       "signups        0\n",
       "CTR            0\n",
       "dtype: int64"
      ]
     },
     "execution_count": 4,
     "metadata": {},
     "output_type": "execute_result"
    }
   ],
   "source": [
    "campaigns = pd.read_csv('../data/raw/peliplat_campaigns.csv', encoding='latin1')\n",
    "campaigns.head()\n",
    "campaigns.info()\n",
    "campaigns.isna().sum()"
   ]
  },
  {
   "cell_type": "code",
   "execution_count": null,
   "metadata": {},
   "outputs": [
    {
     "name": "stdout",
     "output_type": "stream",
     "text": [
      "<class 'pandas.core.frame.DataFrame'>\n",
      "RangeIndex: 500 entries, 0 to 499\n",
      "Data columns (total 5 columns):\n",
      " #   Column      Non-Null Count  Dtype \n",
      "---  ------      --------------  ----- \n",
      " 0   user_id     500 non-null    object\n",
      " 1   content_id  500 non-null    object\n",
      " 2   likes       500 non-null    int64 \n",
      " 3   shares      500 non-null    int64 \n",
      " 4   comments    500 non-null    int64 \n",
      "dtypes: int64(3), object(2)\n",
      "memory usage: 19.7+ KB\n"
     ]
    },
    {
     "data": {
      "text/plain": [
       "user_id       0\n",
       "content_id    0\n",
       "likes         0\n",
       "shares        0\n",
       "comments      0\n",
       "dtype: int64"
      ]
     },
     "execution_count": 5,
     "metadata": {},
     "output_type": "execute_result"
    }
   ],
   "source": [
    "engagement = pd.read_csv('../data/raw/peliplat_engagement.csv', encoding='latin1')\n",
    "engagement.head()\n",
    "engagement.info()   \n",
    "engagement.isna().sum()"
   ]
  },
  {
   "cell_type": "code",
   "execution_count": 6,
   "metadata": {},
   "outputs": [
    {
     "name": "stdout",
     "output_type": "stream",
     "text": [
      "<class 'pandas.core.frame.DataFrame'>\n",
      "RangeIndex: 300 entries, 0 to 299\n",
      "Data columns (total 6 columns):\n",
      " #   Column        Non-Null Count  Dtype \n",
      "---  ------        --------------  ----- \n",
      " 0   content_id    300 non-null    object\n",
      " 1   creator_id    300 non-null    object\n",
      " 2   type          300 non-null    object\n",
      " 3   category      300 non-null    object\n",
      " 4   publish_date  300 non-null    object\n",
      " 5   visits        300 non-null    int64 \n",
      "dtypes: int64(1), object(5)\n",
      "memory usage: 14.2+ KB\n"
     ]
    },
    {
     "data": {
      "text/plain": [
       "content_id      0\n",
       "creator_id      0\n",
       "type            0\n",
       "category        0\n",
       "publish_date    0\n",
       "visits          0\n",
       "dtype: int64"
      ]
     },
     "execution_count": 6,
     "metadata": {},
     "output_type": "execute_result"
    }
   ],
   "source": [
    "content = pd.read_csv('../data/raw/peliplat_content.csv', encoding='latin1')\n",
    "content.head()\n",
    "content.info()\n",
    "content.isna().sum()"
   ]
  }
 ],
 "metadata": {
  "kernelspec": {
   "display_name": "venv",
   "language": "python",
   "name": "python3"
  },
  "language_info": {
   "codemirror_mode": {
    "name": "ipython",
    "version": 3
   },
   "file_extension": ".py",
   "mimetype": "text/x-python",
   "name": "python",
   "nbconvert_exporter": "python",
   "pygments_lexer": "ipython3",
   "version": "3.12.7"
  }
 },
 "nbformat": 4,
 "nbformat_minor": 2
}
