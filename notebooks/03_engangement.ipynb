{
 "cells": [
  {
   "cell_type": "markdown",
   "metadata": {},
   "source": [
    "# Análisis de Engagement\n",
    "\n",
    "En esta sección se analiza el tipo de contenido que genera mayor engagement en la plataforma. Se definirán métricas de engagement (como la suma o promedio de likes, shares y comentarios) y se evaluará el rendimiento de cada tipo de contenido (artículo, lista, video, etc.). \n"
   ]
  },
  {
   "cell_type": "markdown",
   "metadata": {},
   "source": [
    "## 1. Setup inicial\n",
    "\n",
    "En esta sección se importan las librerías necesarias y se cargan los datasets procesados. Se utiliza un enfoque modular importando funciones específicas del módulo `engagement.py` para el análisis de interacciones.\n",
    "\n",
    "Los datasets cargados son:\n",
    "- `content`: Información sobre el contenido disponible en la plataforma\n",
    "- `engagement`: Datos de interacciones de usuarios con el contenido (likes, shares, comentarios)"
   ]
  },
  {
   "cell_type": "code",
   "execution_count": 11,
   "metadata": {},
   "outputs": [],
   "source": [
    "import pandas as pd\n",
    "import numpy as np\n",
    "import seaborn as sns\n",
    "import matplotlib.pyplot as plt\n",
    "import sys\n",
    "sys.path.append('..')\n",
    "from src.analysis.engagement import *\n",
    "from utils.utils_peliplat import *\n",
    "\n",
    "# Cargar datos\n",
    "content = pd.read_csv('../data/processed/peliplat_content_clean.csv', parse_dates=['publish_date'])\n",
    "engagement = pd.read_csv('../data/processed/peliplat_engagement_clean.csv')\n"
   ]
  },
  {
   "cell_type": "markdown",
   "metadata": {},
   "source": [
    "## 2. Cálculo de métricas de engagement\n",
    "\n",
    "En esta sección se calculan las métricas combinadas de engagement a partir de los datasets cargados. Se utiliza la función `calcular_metricas_engagement` para combinar los datos de contenido y engagement.\n",
    "\n",
    "Se calculan y verifican las siguientes métricas:\n",
    "- `total_engagement`: Suma total de likes, shares y comentarios por contenido\n",
    "- `engagement_rate`: Porcentaje que representa el engagement total respecto a las visitas"
   ]
  },
  {
   "cell_type": "code",
   "execution_count": 12,
   "metadata": {},
   "outputs": [
    {
     "name": "stdout",
     "output_type": "stream",
     "text": [
      "Total de registros procesados: 300\n",
      "\n",
      "Columnas calculadas:\n",
      "- total_engagement: 300 valores no nulos\n",
      "- engagement_rate: 300 valores no nulos\n"
     ]
    }
   ],
   "source": [
    "# Calcular métricas combinadas de engagement\n",
    "df = calcular_metricas_engagement(content, engagement)\n",
    "\n",
    "# Verificar que el cálculo se realizó correctamente\n",
    "print(f\"Total de registros procesados: {len(df)}\")\n",
    "print(\"\\nColumnas calculadas:\")\n",
    "for col in ['total_engagement', 'engagement_rate']:\n",
    "    print(f\"- {col}: {df[col].notna().sum()} valores no nulos\")"
   ]
  },
  {
   "cell_type": "markdown",
   "metadata": {},
   "source": [
    "## 3. Análisis de engagement por tipo de contenido\n",
    "\n",
    "Se analiza el engagement promedio según el tipo de contenido (Artículo, Lista, Video). Se utiliza la función `analizar_engagement_por_grupo` para calcular métricas agregadas por tipo.\n",
    "\n",
    "Se muestran estadísticas como cantidad de contenidos, promedio de visitas, likes, shares, comentarios y tasas de engagement para cada tipo."
   ]
  },
  {
   "cell_type": "code",
   "execution_count": 13,
   "metadata": {},
   "outputs": [
    {
     "name": "stdout",
     "output_type": "stream",
     "text": [
      "\n",
      "Engagement promedio por tipo de contenido\n"
     ]
    },
    {
     "data": {
      "text/html": [
       "<style type=\"text/css\">\n",
       "#T_aad79 th {\n",
       "  background-color: #3c3c3c;\n",
       "  color: #ffffff;\n",
       "  font-weight: bold;\n",
       "  text-align: center;\n",
       "}\n",
       "#T_aad79 td {\n",
       "  text-align: center;\n",
       "}\n",
       "#T_aad79  {\n",
       "  border: 1px solid #cccccc;\n",
       "  font-family: Arial, Helvetica, sans-serif;\n",
       "}\n",
       "#T_aad79_row0_col0, #T_aad79_row0_col1, #T_aad79_row0_col2, #T_aad79_row0_col3, #T_aad79_row0_col4, #T_aad79_row0_col5, #T_aad79_row0_col6, #T_aad79_row0_col7, #T_aad79_row1_col0, #T_aad79_row1_col1, #T_aad79_row1_col2, #T_aad79_row1_col3, #T_aad79_row1_col4, #T_aad79_row1_col5, #T_aad79_row1_col6, #T_aad79_row1_col7, #T_aad79_row2_col0, #T_aad79_row2_col1, #T_aad79_row2_col2, #T_aad79_row2_col3, #T_aad79_row2_col4, #T_aad79_row2_col5, #T_aad79_row2_col6, #T_aad79_row2_col7 {\n",
       "  background-color: #ffffff;\n",
       "  color: #333333;\n",
       "  border-color: #cccccc;\n",
       "}\n",
       "</style>\n",
       "<table id=\"T_aad79\">\n",
       "  <thead>\n",
       "    <tr>\n",
       "      <th class=\"blank level0\" >&nbsp;</th>\n",
       "      <th id=\"T_aad79_level0_col0\" class=\"col_heading level0 col0\" >type</th>\n",
       "      <th id=\"T_aad79_level0_col1\" class=\"col_heading level0 col1\" >cantidad</th>\n",
       "      <th id=\"T_aad79_level0_col2\" class=\"col_heading level0 col2\" >p_visitas</th>\n",
       "      <th id=\"T_aad79_level0_col3\" class=\"col_heading level0 col3\" >p_likes</th>\n",
       "      <th id=\"T_aad79_level0_col4\" class=\"col_heading level0 col4\" >p_shares</th>\n",
       "      <th id=\"T_aad79_level0_col5\" class=\"col_heading level0 col5\" >p_comments</th>\n",
       "      <th id=\"T_aad79_level0_col6\" class=\"col_heading level0 col6\" >p_engagement_total</th>\n",
       "      <th id=\"T_aad79_level0_col7\" class=\"col_heading level0 col7\" >p_tasa_engagement(%)</th>\n",
       "    </tr>\n",
       "  </thead>\n",
       "  <tbody>\n",
       "    <tr>\n",
       "      <th id=\"T_aad79_level0_row0\" class=\"row_heading level0 row0\" >0</th>\n",
       "      <td id=\"T_aad79_row0_col0\" class=\"data row0 col0\" >Artículo</td>\n",
       "      <td id=\"T_aad79_row0_col1\" class=\"data row0 col1\" >99</td>\n",
       "      <td id=\"T_aad79_row0_col2\" class=\"data row0 col2\" >50.26</td>\n",
       "      <td id=\"T_aad79_row0_col3\" class=\"data row0 col3\" >3.58</td>\n",
       "      <td id=\"T_aad79_row0_col4\" class=\"data row0 col4\" >0.49</td>\n",
       "      <td id=\"T_aad79_row0_col5\" class=\"data row0 col5\" >1.74</td>\n",
       "      <td id=\"T_aad79_row0_col6\" class=\"data row0 col6\" >5.81</td>\n",
       "      <td id=\"T_aad79_row0_col7\" class=\"data row0 col7\" >11.71</td>\n",
       "    </tr>\n",
       "    <tr>\n",
       "      <th id=\"T_aad79_level0_row1\" class=\"row_heading level0 row1\" >1</th>\n",
       "      <td id=\"T_aad79_row1_col0\" class=\"data row1 col0\" >Lista</td>\n",
       "      <td id=\"T_aad79_row1_col1\" class=\"data row1 col1\" >92</td>\n",
       "      <td id=\"T_aad79_row1_col2\" class=\"data row1 col2\" >49.82</td>\n",
       "      <td id=\"T_aad79_row1_col3\" class=\"data row1 col3\" >3.63</td>\n",
       "      <td id=\"T_aad79_row1_col4\" class=\"data row1 col4\" >0.43</td>\n",
       "      <td id=\"T_aad79_row1_col5\" class=\"data row1 col5\" >1.64</td>\n",
       "      <td id=\"T_aad79_row1_col6\" class=\"data row1 col6\" >5.71</td>\n",
       "      <td id=\"T_aad79_row1_col7\" class=\"data row1 col7\" >11.73</td>\n",
       "    </tr>\n",
       "    <tr>\n",
       "      <th id=\"T_aad79_level0_row2\" class=\"row_heading level0 row2\" >2</th>\n",
       "      <td id=\"T_aad79_row2_col0\" class=\"data row2 col0\" >Video</td>\n",
       "      <td id=\"T_aad79_row2_col1\" class=\"data row2 col1\" >109</td>\n",
       "      <td id=\"T_aad79_row2_col2\" class=\"data row2 col2\" >49.96</td>\n",
       "      <td id=\"T_aad79_row2_col3\" class=\"data row2 col3\" >3.09</td>\n",
       "      <td id=\"T_aad79_row2_col4\" class=\"data row2 col4\" >0.43</td>\n",
       "      <td id=\"T_aad79_row2_col5\" class=\"data row2 col5\" >1.50</td>\n",
       "      <td id=\"T_aad79_row2_col6\" class=\"data row2 col6\" >5.02</td>\n",
       "      <td id=\"T_aad79_row2_col7\" class=\"data row2 col7\" >10.02</td>\n",
       "    </tr>\n",
       "  </tbody>\n",
       "</table>\n"
      ],
      "text/plain": [
       "<pandas.io.formats.style.Styler at 0x11f25bd34a0>"
      ]
     },
     "metadata": {},
     "output_type": "display_data"
    },
    {
     "name": "stdout",
     "output_type": "stream",
     "text": [
      "Tabla guardada en HTML: ../reports/tables\\engagement_by_type.html\n",
      "Tabla guardada en PNG: ../reports/tables\\engagement_by_type.png\n"
     ]
    }
   ],
   "source": [
    "# Análisis por tipo de contenido\n",
    "engagement_tipo = analizar_engagement_por_grupo(df, 'type')\n",
    "\n",
    "# Mostrar y guardar resultados\n",
    "mostrar_tabla(\n",
    "    engagement_tipo,\n",
    "    titulo=\"Engagement promedio por tipo de contenido\",\n",
    "    guardar=True,\n",
    "    nombre_archivo=\"engagement_by_type\"\n",
    ")"
   ]
  },
  {
   "cell_type": "markdown",
   "metadata": {},
   "source": [
    "## 4. Análisis de engagement por categoría\n",
    "\n",
    "Se analiza el engagement promedio según la categoría de contenido (Clásicos, Indie, Mainstream, Documental). Se utiliza la función `analizar_engagement_por_grupo` agrupando por categoría.\n",
    "\n",
    "Los resultados se visualizan en una tabla formateada y se guardan tanto en formato HTML como imagen para su inclusión en informes."
   ]
  },
  {
   "cell_type": "code",
   "execution_count": 14,
   "metadata": {},
   "outputs": [
    {
     "name": "stdout",
     "output_type": "stream",
     "text": [
      "\n",
      "Engagement promedio por categoría\n"
     ]
    },
    {
     "data": {
      "text/html": [
       "<style type=\"text/css\">\n",
       "#T_d5f4a th {\n",
       "  background-color: #3c3c3c;\n",
       "  color: #ffffff;\n",
       "  font-weight: bold;\n",
       "  text-align: center;\n",
       "}\n",
       "#T_d5f4a td {\n",
       "  text-align: center;\n",
       "}\n",
       "#T_d5f4a  {\n",
       "  border: 1px solid #cccccc;\n",
       "  font-family: Arial, Helvetica, sans-serif;\n",
       "}\n",
       "#T_d5f4a_row0_col0, #T_d5f4a_row0_col1, #T_d5f4a_row0_col2, #T_d5f4a_row0_col3, #T_d5f4a_row0_col4, #T_d5f4a_row0_col5, #T_d5f4a_row0_col6, #T_d5f4a_row0_col7, #T_d5f4a_row1_col0, #T_d5f4a_row1_col1, #T_d5f4a_row1_col2, #T_d5f4a_row1_col3, #T_d5f4a_row1_col4, #T_d5f4a_row1_col5, #T_d5f4a_row1_col6, #T_d5f4a_row1_col7, #T_d5f4a_row2_col0, #T_d5f4a_row2_col1, #T_d5f4a_row2_col2, #T_d5f4a_row2_col3, #T_d5f4a_row2_col4, #T_d5f4a_row2_col5, #T_d5f4a_row2_col6, #T_d5f4a_row2_col7, #T_d5f4a_row3_col0, #T_d5f4a_row3_col1, #T_d5f4a_row3_col2, #T_d5f4a_row3_col3, #T_d5f4a_row3_col4, #T_d5f4a_row3_col5, #T_d5f4a_row3_col6, #T_d5f4a_row3_col7 {\n",
       "  background-color: #ffffff;\n",
       "  color: #333333;\n",
       "  border-color: #cccccc;\n",
       "}\n",
       "</style>\n",
       "<table id=\"T_d5f4a\">\n",
       "  <thead>\n",
       "    <tr>\n",
       "      <th class=\"blank level0\" >&nbsp;</th>\n",
       "      <th id=\"T_d5f4a_level0_col0\" class=\"col_heading level0 col0\" >category</th>\n",
       "      <th id=\"T_d5f4a_level0_col1\" class=\"col_heading level0 col1\" >cantidad</th>\n",
       "      <th id=\"T_d5f4a_level0_col2\" class=\"col_heading level0 col2\" >p_visitas</th>\n",
       "      <th id=\"T_d5f4a_level0_col3\" class=\"col_heading level0 col3\" >p_likes</th>\n",
       "      <th id=\"T_d5f4a_level0_col4\" class=\"col_heading level0 col4\" >p_shares</th>\n",
       "      <th id=\"T_d5f4a_level0_col5\" class=\"col_heading level0 col5\" >p_comments</th>\n",
       "      <th id=\"T_d5f4a_level0_col6\" class=\"col_heading level0 col6\" >p_engagement_total</th>\n",
       "      <th id=\"T_d5f4a_level0_col7\" class=\"col_heading level0 col7\" >p_tasa_engagement(%)</th>\n",
       "    </tr>\n",
       "  </thead>\n",
       "  <tbody>\n",
       "    <tr>\n",
       "      <th id=\"T_d5f4a_level0_row0\" class=\"row_heading level0 row0\" >0</th>\n",
       "      <td id=\"T_d5f4a_row0_col0\" class=\"data row0 col0\" >Clásicos</td>\n",
       "      <td id=\"T_d5f4a_row0_col1\" class=\"data row0 col1\" >81</td>\n",
       "      <td id=\"T_d5f4a_row0_col2\" class=\"data row0 col2\" >49.60</td>\n",
       "      <td id=\"T_d5f4a_row0_col3\" class=\"data row0 col3\" >3.68</td>\n",
       "      <td id=\"T_d5f4a_row0_col4\" class=\"data row0 col4\" >0.52</td>\n",
       "      <td id=\"T_d5f4a_row0_col5\" class=\"data row0 col5\" >1.95</td>\n",
       "      <td id=\"T_d5f4a_row0_col6\" class=\"data row0 col6\" >6.15</td>\n",
       "      <td id=\"T_d5f4a_row0_col7\" class=\"data row0 col7\" >12.52</td>\n",
       "    </tr>\n",
       "    <tr>\n",
       "      <th id=\"T_d5f4a_level0_row1\" class=\"row_heading level0 row1\" >2</th>\n",
       "      <td id=\"T_d5f4a_row1_col0\" class=\"data row1 col0\" >Indie</td>\n",
       "      <td id=\"T_d5f4a_row1_col1\" class=\"data row1 col1\" >82</td>\n",
       "      <td id=\"T_d5f4a_row1_col2\" class=\"data row1 col2\" >50.22</td>\n",
       "      <td id=\"T_d5f4a_row1_col3\" class=\"data row1 col3\" >3.48</td>\n",
       "      <td id=\"T_d5f4a_row1_col4\" class=\"data row1 col4\" >0.39</td>\n",
       "      <td id=\"T_d5f4a_row1_col5\" class=\"data row1 col5\" >1.46</td>\n",
       "      <td id=\"T_d5f4a_row1_col6\" class=\"data row1 col6\" >5.33</td>\n",
       "      <td id=\"T_d5f4a_row1_col7\" class=\"data row1 col7\" >10.77</td>\n",
       "    </tr>\n",
       "    <tr>\n",
       "      <th id=\"T_d5f4a_level0_row2\" class=\"row_heading level0 row2\" >3</th>\n",
       "      <td id=\"T_d5f4a_row2_col0\" class=\"data row2 col0\" >Mainstream</td>\n",
       "      <td id=\"T_d5f4a_row2_col1\" class=\"data row2 col1\" >74</td>\n",
       "      <td id=\"T_d5f4a_row2_col2\" class=\"data row2 col2\" >50.57</td>\n",
       "      <td id=\"T_d5f4a_row2_col3\" class=\"data row2 col3\" >3.22</td>\n",
       "      <td id=\"T_d5f4a_row2_col4\" class=\"data row2 col4\" >0.47</td>\n",
       "      <td id=\"T_d5f4a_row2_col5\" class=\"data row2 col5\" >1.57</td>\n",
       "      <td id=\"T_d5f4a_row2_col6\" class=\"data row2 col6\" >5.26</td>\n",
       "      <td id=\"T_d5f4a_row2_col7\" class=\"data row2 col7\" >10.26</td>\n",
       "    </tr>\n",
       "    <tr>\n",
       "      <th id=\"T_d5f4a_level0_row3\" class=\"row_heading level0 row3\" >1</th>\n",
       "      <td id=\"T_d5f4a_row3_col0\" class=\"data row3 col0\" >Documental</td>\n",
       "      <td id=\"T_d5f4a_row3_col1\" class=\"data row3 col1\" >63</td>\n",
       "      <td id=\"T_d5f4a_row3_col2\" class=\"data row3 col2\" >49.63</td>\n",
       "      <td id=\"T_d5f4a_row3_col3\" class=\"data row3 col3\" >3.24</td>\n",
       "      <td id=\"T_d5f4a_row3_col4\" class=\"data row3 col4\" >0.43</td>\n",
       "      <td id=\"T_d5f4a_row3_col5\" class=\"data row3 col5\" >1.46</td>\n",
       "      <td id=\"T_d5f4a_row3_col6\" class=\"data row3 col6\" >5.13</td>\n",
       "      <td id=\"T_d5f4a_row3_col7\" class=\"data row3 col7\" >10.69</td>\n",
       "    </tr>\n",
       "  </tbody>\n",
       "</table>\n"
      ],
      "text/plain": [
       "<pandas.io.formats.style.Styler at 0x11f25dc3d40>"
      ]
     },
     "metadata": {},
     "output_type": "display_data"
    },
    {
     "name": "stdout",
     "output_type": "stream",
     "text": [
      "Tabla guardada en HTML: ../reports/tables\\engagement_by_category.html\n",
      "Tabla guardada en PNG: ../reports/tables\\engagement_by_category.png\n"
     ]
    }
   ],
   "source": [
    "# Análisis por categoría\n",
    "engagement_categoria = analizar_engagement_por_grupo(df, 'category')\n",
    "\n",
    "# Mostrar y guardar resultados\n",
    "mostrar_tabla(\n",
    "    engagement_categoria,\n",
    "    titulo=\"Engagement promedio por categoría\",\n",
    "    guardar=True,\n",
    "    nombre_archivo=\"engagement_by_category\"\n",
    ")"
   ]
  },
  {
   "cell_type": "markdown",
   "metadata": {},
   "source": [
    "## 5. Identificación de contenidos destacados\n",
    "\n",
    "Se identifican los 10 contenidos con mayor engagement total en la plataforma mediante la función `obtener_top_contenidos`. \n",
    "\n",
    "La tabla resultante se visualiza con formato mejorado y se guarda para su posterior inclusión en el informe final, mostrando métricas detalladas de cada contenido destacado."
   ]
  },
  {
   "cell_type": "code",
   "execution_count": 15,
   "metadata": {},
   "outputs": [
    {
     "name": "stdout",
     "output_type": "stream",
     "text": [
      "\n",
      "Top 10 contenidos con mayor engagement\n"
     ]
    },
    {
     "data": {
      "text/html": [
       "<style type=\"text/css\">\n",
       "#T_9c400 th {\n",
       "  background-color: #3c3c3c;\n",
       "  color: #ffffff;\n",
       "  font-weight: bold;\n",
       "  text-align: center;\n",
       "}\n",
       "#T_9c400 td {\n",
       "  text-align: center;\n",
       "}\n",
       "#T_9c400  {\n",
       "  border: 1px solid #cccccc;\n",
       "  font-family: Arial, Helvetica, sans-serif;\n",
       "}\n",
       "#T_9c400_row0_col0, #T_9c400_row0_col1, #T_9c400_row0_col2, #T_9c400_row0_col3, #T_9c400_row0_col4, #T_9c400_row0_col5, #T_9c400_row0_col6, #T_9c400_row0_col7, #T_9c400_row0_col8, #T_9c400_row1_col0, #T_9c400_row1_col1, #T_9c400_row1_col2, #T_9c400_row1_col3, #T_9c400_row1_col4, #T_9c400_row1_col5, #T_9c400_row1_col6, #T_9c400_row1_col7, #T_9c400_row1_col8, #T_9c400_row2_col0, #T_9c400_row2_col1, #T_9c400_row2_col2, #T_9c400_row2_col3, #T_9c400_row2_col4, #T_9c400_row2_col5, #T_9c400_row2_col6, #T_9c400_row2_col7, #T_9c400_row2_col8, #T_9c400_row3_col0, #T_9c400_row3_col1, #T_9c400_row3_col2, #T_9c400_row3_col3, #T_9c400_row3_col4, #T_9c400_row3_col5, #T_9c400_row3_col6, #T_9c400_row3_col7, #T_9c400_row3_col8, #T_9c400_row4_col0, #T_9c400_row4_col1, #T_9c400_row4_col2, #T_9c400_row4_col3, #T_9c400_row4_col4, #T_9c400_row4_col5, #T_9c400_row4_col6, #T_9c400_row4_col7, #T_9c400_row4_col8, #T_9c400_row5_col0, #T_9c400_row5_col1, #T_9c400_row5_col2, #T_9c400_row5_col3, #T_9c400_row5_col4, #T_9c400_row5_col5, #T_9c400_row5_col6, #T_9c400_row5_col7, #T_9c400_row5_col8, #T_9c400_row6_col0, #T_9c400_row6_col1, #T_9c400_row6_col2, #T_9c400_row6_col3, #T_9c400_row6_col4, #T_9c400_row6_col5, #T_9c400_row6_col6, #T_9c400_row6_col7, #T_9c400_row6_col8, #T_9c400_row7_col0, #T_9c400_row7_col1, #T_9c400_row7_col2, #T_9c400_row7_col3, #T_9c400_row7_col4, #T_9c400_row7_col5, #T_9c400_row7_col6, #T_9c400_row7_col7, #T_9c400_row7_col8, #T_9c400_row8_col0, #T_9c400_row8_col1, #T_9c400_row8_col2, #T_9c400_row8_col3, #T_9c400_row8_col4, #T_9c400_row8_col5, #T_9c400_row8_col6, #T_9c400_row8_col7, #T_9c400_row8_col8, #T_9c400_row9_col0, #T_9c400_row9_col1, #T_9c400_row9_col2, #T_9c400_row9_col3, #T_9c400_row9_col4, #T_9c400_row9_col5, #T_9c400_row9_col6, #T_9c400_row9_col7, #T_9c400_row9_col8 {\n",
       "  background-color: #ffffff;\n",
       "  color: #333333;\n",
       "  border-color: #cccccc;\n",
       "}\n",
       "</style>\n",
       "<table id=\"T_9c400\">\n",
       "  <thead>\n",
       "    <tr>\n",
       "      <th class=\"blank level0\" >&nbsp;</th>\n",
       "      <th id=\"T_9c400_level0_col0\" class=\"col_heading level0 col0\" >content_id</th>\n",
       "      <th id=\"T_9c400_level0_col1\" class=\"col_heading level0 col1\" >type</th>\n",
       "      <th id=\"T_9c400_level0_col2\" class=\"col_heading level0 col2\" >category</th>\n",
       "      <th id=\"T_9c400_level0_col3\" class=\"col_heading level0 col3\" >visits</th>\n",
       "      <th id=\"T_9c400_level0_col4\" class=\"col_heading level0 col4\" >likes</th>\n",
       "      <th id=\"T_9c400_level0_col5\" class=\"col_heading level0 col5\" >shares</th>\n",
       "      <th id=\"T_9c400_level0_col6\" class=\"col_heading level0 col6\" >comments</th>\n",
       "      <th id=\"T_9c400_level0_col7\" class=\"col_heading level0 col7\" >total_engagement</th>\n",
       "      <th id=\"T_9c400_level0_col8\" class=\"col_heading level0 col8\" >engagement_rate</th>\n",
       "    </tr>\n",
       "  </thead>\n",
       "  <tbody>\n",
       "    <tr>\n",
       "      <th id=\"T_9c400_level0_row0\" class=\"row_heading level0 row0\" >52</th>\n",
       "      <td id=\"T_9c400_row0_col0\" class=\"data row0 col0\" >C0052</td>\n",
       "      <td id=\"T_9c400_row0_col1\" class=\"data row0 col1\" >Video</td>\n",
       "      <td id=\"T_9c400_row0_col2\" class=\"data row0 col2\" >Indie</td>\n",
       "      <td id=\"T_9c400_row0_col3\" class=\"data row0 col3\" >46</td>\n",
       "      <td id=\"T_9c400_row0_col4\" class=\"data row0 col4\" >15.00</td>\n",
       "      <td id=\"T_9c400_row0_col5\" class=\"data row0 col5\" >0.00</td>\n",
       "      <td id=\"T_9c400_row0_col6\" class=\"data row0 col6\" >8.00</td>\n",
       "      <td id=\"T_9c400_row0_col7\" class=\"data row0 col7\" >23.00</td>\n",
       "      <td id=\"T_9c400_row0_col8\" class=\"data row0 col8\" >50.00</td>\n",
       "    </tr>\n",
       "    <tr>\n",
       "      <th id=\"T_9c400_level0_row1\" class=\"row_heading level0 row1\" >174</th>\n",
       "      <td id=\"T_9c400_row1_col0\" class=\"data row1 col0\" >C0174</td>\n",
       "      <td id=\"T_9c400_row1_col1\" class=\"data row1 col1\" >Lista</td>\n",
       "      <td id=\"T_9c400_row1_col2\" class=\"data row1 col2\" >Clásicos</td>\n",
       "      <td id=\"T_9c400_row1_col3\" class=\"data row1 col3\" >43</td>\n",
       "      <td id=\"T_9c400_row1_col4\" class=\"data row1 col4\" >12.00</td>\n",
       "      <td id=\"T_9c400_row1_col5\" class=\"data row1 col5\" >1.00</td>\n",
       "      <td id=\"T_9c400_row1_col6\" class=\"data row1 col6\" >8.00</td>\n",
       "      <td id=\"T_9c400_row1_col7\" class=\"data row1 col7\" >21.00</td>\n",
       "      <td id=\"T_9c400_row1_col8\" class=\"data row1 col8\" >48.84</td>\n",
       "    </tr>\n",
       "    <tr>\n",
       "      <th id=\"T_9c400_level0_row2\" class=\"row_heading level0 row2\" >40</th>\n",
       "      <td id=\"T_9c400_row2_col0\" class=\"data row2 col0\" >C0040</td>\n",
       "      <td id=\"T_9c400_row2_col1\" class=\"data row2 col1\" >Video</td>\n",
       "      <td id=\"T_9c400_row2_col2\" class=\"data row2 col2\" >Indie</td>\n",
       "      <td id=\"T_9c400_row2_col3\" class=\"data row2 col3\" >48</td>\n",
       "      <td id=\"T_9c400_row2_col4\" class=\"data row2 col4\" >14.00</td>\n",
       "      <td id=\"T_9c400_row2_col5\" class=\"data row2 col5\" >1.00</td>\n",
       "      <td id=\"T_9c400_row2_col6\" class=\"data row2 col6\" >5.00</td>\n",
       "      <td id=\"T_9c400_row2_col7\" class=\"data row2 col7\" >20.00</td>\n",
       "      <td id=\"T_9c400_row2_col8\" class=\"data row2 col8\" >41.67</td>\n",
       "    </tr>\n",
       "    <tr>\n",
       "      <th id=\"T_9c400_level0_row3\" class=\"row_heading level0 row3\" >146</th>\n",
       "      <td id=\"T_9c400_row3_col0\" class=\"data row3 col0\" >C0146</td>\n",
       "      <td id=\"T_9c400_row3_col1\" class=\"data row3 col1\" >Video</td>\n",
       "      <td id=\"T_9c400_row3_col2\" class=\"data row3 col2\" >Documental</td>\n",
       "      <td id=\"T_9c400_row3_col3\" class=\"data row3 col3\" >53</td>\n",
       "      <td id=\"T_9c400_row3_col4\" class=\"data row3 col4\" >9.00</td>\n",
       "      <td id=\"T_9c400_row3_col5\" class=\"data row3 col5\" >1.00</td>\n",
       "      <td id=\"T_9c400_row3_col6\" class=\"data row3 col6\" >10.00</td>\n",
       "      <td id=\"T_9c400_row3_col7\" class=\"data row3 col7\" >20.00</td>\n",
       "      <td id=\"T_9c400_row3_col8\" class=\"data row3 col8\" >37.74</td>\n",
       "    </tr>\n",
       "    <tr>\n",
       "      <th id=\"T_9c400_level0_row4\" class=\"row_heading level0 row4\" >161</th>\n",
       "      <td id=\"T_9c400_row4_col0\" class=\"data row4 col0\" >C0161</td>\n",
       "      <td id=\"T_9c400_row4_col1\" class=\"data row4 col1\" >Artículo</td>\n",
       "      <td id=\"T_9c400_row4_col2\" class=\"data row4 col2\" >Documental</td>\n",
       "      <td id=\"T_9c400_row4_col3\" class=\"data row4 col3\" >52</td>\n",
       "      <td id=\"T_9c400_row4_col4\" class=\"data row4 col4\" >13.00</td>\n",
       "      <td id=\"T_9c400_row4_col5\" class=\"data row4 col5\" >0.00</td>\n",
       "      <td id=\"T_9c400_row4_col6\" class=\"data row4 col6\" >7.00</td>\n",
       "      <td id=\"T_9c400_row4_col7\" class=\"data row4 col7\" >20.00</td>\n",
       "      <td id=\"T_9c400_row4_col8\" class=\"data row4 col8\" >38.46</td>\n",
       "    </tr>\n",
       "    <tr>\n",
       "      <th id=\"T_9c400_level0_row5\" class=\"row_heading level0 row5\" >263</th>\n",
       "      <td id=\"T_9c400_row5_col0\" class=\"data row5 col0\" >C0263</td>\n",
       "      <td id=\"T_9c400_row5_col1\" class=\"data row5 col1\" >Video</td>\n",
       "      <td id=\"T_9c400_row5_col2\" class=\"data row5 col2\" >Clásicos</td>\n",
       "      <td id=\"T_9c400_row5_col3\" class=\"data row5 col3\" >60</td>\n",
       "      <td id=\"T_9c400_row5_col4\" class=\"data row5 col4\" >11.00</td>\n",
       "      <td id=\"T_9c400_row5_col5\" class=\"data row5 col5\" >2.00</td>\n",
       "      <td id=\"T_9c400_row5_col6\" class=\"data row5 col6\" >5.00</td>\n",
       "      <td id=\"T_9c400_row5_col7\" class=\"data row5 col7\" >18.00</td>\n",
       "      <td id=\"T_9c400_row5_col8\" class=\"data row5 col8\" >30.00</td>\n",
       "    </tr>\n",
       "    <tr>\n",
       "      <th id=\"T_9c400_level0_row6\" class=\"row_heading level0 row6\" >249</th>\n",
       "      <td id=\"T_9c400_row6_col0\" class=\"data row6 col0\" >C0249</td>\n",
       "      <td id=\"T_9c400_row6_col1\" class=\"data row6 col1\" >Video</td>\n",
       "      <td id=\"T_9c400_row6_col2\" class=\"data row6 col2\" >Clásicos</td>\n",
       "      <td id=\"T_9c400_row6_col3\" class=\"data row6 col3\" >54</td>\n",
       "      <td id=\"T_9c400_row6_col4\" class=\"data row6 col4\" >12.00</td>\n",
       "      <td id=\"T_9c400_row6_col5\" class=\"data row6 col5\" >2.00</td>\n",
       "      <td id=\"T_9c400_row6_col6\" class=\"data row6 col6\" >2.00</td>\n",
       "      <td id=\"T_9c400_row6_col7\" class=\"data row6 col7\" >16.00</td>\n",
       "      <td id=\"T_9c400_row6_col8\" class=\"data row6 col8\" >29.63</td>\n",
       "    </tr>\n",
       "    <tr>\n",
       "      <th id=\"T_9c400_level0_row7\" class=\"row_heading level0 row7\" >200</th>\n",
       "      <td id=\"T_9c400_row7_col0\" class=\"data row7 col0\" >C0200</td>\n",
       "      <td id=\"T_9c400_row7_col1\" class=\"data row7 col1\" >Lista</td>\n",
       "      <td id=\"T_9c400_row7_col2\" class=\"data row7 col2\" >Mainstream</td>\n",
       "      <td id=\"T_9c400_row7_col3\" class=\"data row7 col3\" >57</td>\n",
       "      <td id=\"T_9c400_row7_col4\" class=\"data row7 col4\" >12.00</td>\n",
       "      <td id=\"T_9c400_row7_col5\" class=\"data row7 col5\" >0.00</td>\n",
       "      <td id=\"T_9c400_row7_col6\" class=\"data row7 col6\" >4.00</td>\n",
       "      <td id=\"T_9c400_row7_col7\" class=\"data row7 col7\" >16.00</td>\n",
       "      <td id=\"T_9c400_row7_col8\" class=\"data row7 col8\" >28.07</td>\n",
       "    </tr>\n",
       "    <tr>\n",
       "      <th id=\"T_9c400_level0_row8\" class=\"row_heading level0 row8\" >117</th>\n",
       "      <td id=\"T_9c400_row8_col0\" class=\"data row8 col0\" >C0117</td>\n",
       "      <td id=\"T_9c400_row8_col1\" class=\"data row8 col1\" >Lista</td>\n",
       "      <td id=\"T_9c400_row8_col2\" class=\"data row8 col2\" >Indie</td>\n",
       "      <td id=\"T_9c400_row8_col3\" class=\"data row8 col3\" >57</td>\n",
       "      <td id=\"T_9c400_row8_col4\" class=\"data row8 col4\" >12.00</td>\n",
       "      <td id=\"T_9c400_row8_col5\" class=\"data row8 col5\" >1.00</td>\n",
       "      <td id=\"T_9c400_row8_col6\" class=\"data row8 col6\" >3.00</td>\n",
       "      <td id=\"T_9c400_row8_col7\" class=\"data row8 col7\" >16.00</td>\n",
       "      <td id=\"T_9c400_row8_col8\" class=\"data row8 col8\" >28.07</td>\n",
       "    </tr>\n",
       "    <tr>\n",
       "      <th id=\"T_9c400_level0_row9\" class=\"row_heading level0 row9\" >259</th>\n",
       "      <td id=\"T_9c400_row9_col0\" class=\"data row9 col0\" >C0259</td>\n",
       "      <td id=\"T_9c400_row9_col1\" class=\"data row9 col1\" >Lista</td>\n",
       "      <td id=\"T_9c400_row9_col2\" class=\"data row9 col2\" >Clásicos</td>\n",
       "      <td id=\"T_9c400_row9_col3\" class=\"data row9 col3\" >48</td>\n",
       "      <td id=\"T_9c400_row9_col4\" class=\"data row9 col4\" >10.00</td>\n",
       "      <td id=\"T_9c400_row9_col5\" class=\"data row9 col5\" >3.00</td>\n",
       "      <td id=\"T_9c400_row9_col6\" class=\"data row9 col6\" >3.00</td>\n",
       "      <td id=\"T_9c400_row9_col7\" class=\"data row9 col7\" >16.00</td>\n",
       "      <td id=\"T_9c400_row9_col8\" class=\"data row9 col8\" >33.33</td>\n",
       "    </tr>\n",
       "  </tbody>\n",
       "</table>\n"
      ],
      "text/plain": [
       "<pandas.io.formats.style.Styler at 0x11f255e7380>"
      ]
     },
     "metadata": {},
     "output_type": "display_data"
    },
    {
     "name": "stdout",
     "output_type": "stream",
     "text": [
      "Tabla guardada en HTML: ../reports/tables\\top_10_engagement.html\n",
      "Tabla guardada en PNG: ../reports/tables\\top_10_engagement.png\n"
     ]
    }
   ],
   "source": [
    "# Obtener top 10 contenidos por engagement\n",
    "top_contenidos = obtener_top_contenidos(df, n=10)\n",
    "\n",
    "# Mostrar y guardar resultados\n",
    "mostrar_tabla(\n",
    "    top_contenidos,\n",
    "    titulo=\"Top 10 contenidos con mayor engagement\",\n",
    "    guardar=True,\n",
    "    nombre_archivo=\"top_10_engagement\"\n",
    ")"
   ]
  },
  {
   "cell_type": "markdown",
   "metadata": {},
   "source": [
    "## 6. Visualización cruzada de engagement\n",
    "\n",
    "Se crea una visualización gráfica que muestra el engagement cruzado por tipo de contenido y categoría. Se utiliza la función `graficar_engagement_cruzado` con la paleta de colores corporativa.\n",
    "\n",
    "El gráfico resultante permite identificar qué combinaciones de tipo y categoría generan mayor engagement, facilitando decisiones estratégicas sobre la producción de contenido."
   ]
  },
  {
   "cell_type": "code",
   "execution_count": 16,
   "metadata": {},
   "outputs": [
    {
     "name": "stdout",
     "output_type": "stream",
     "text": [
      "Figura guardada en: ../reports/figures\\engagement_por_tipo_categoria.png\n"
     ]
    },
    {
     "data": {
      "text/plain": [
       "<Figure size 1200x800 with 0 Axes>"
      ]
     },
     "metadata": {},
     "output_type": "display_data"
    },
    {
     "data": {
      "image/png": "[encoded data removed]",
      "text/plain": [
       "<Figure size 1050.12x600 with 1 Axes>"
      ]
     },
     "metadata": {},
     "output_type": "display_data"
    }
   ],
   "source": [
    "# Configurar estilo\n",
    "configurar_estilo_peliplat()\n",
    "\n",
    "# Crear visualización de engagement cruzado\n",
    "fig, chart = graficar_engagement_cruzado(\n",
    "    df,\n",
    "    titulo=\"Engagement promedio por tipo de contenido y categoría\",\n",
    "    subtitulo=\"Engagement promedio = Media de (likes + shares + comments) por contenido\"\n",
    ")\n",
    "\n",
    "# Guardar y mostrar\n",
    "guardar_figura(chart.figure, \"engagement_por_tipo_categoria.png\")\n",
    "plt.show()"
   ]
  }
 ],
 "metadata": {
  "kernelspec": {
   "display_name": "venv",
   "language": "python",
   "name": "python3"
  },
  "language_info": {
   "codemirror_mode": {
    "name": "ipython",
    "version": 3
   },
   "file_extension": ".py",
   "mimetype": "text/x-python",
   "name": "python",
   "nbconvert_exporter": "python",
   "pygments_lexer": "ipython3",
   "version": "3.12.7"
  }
 },
 "nbformat": 4,
 "nbformat_minor": 2
}
